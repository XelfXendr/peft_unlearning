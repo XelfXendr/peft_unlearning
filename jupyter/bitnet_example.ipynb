{
 "cells": [
  {
   "cell_type": "code",
   "execution_count": 1,
   "metadata": {},
   "outputs": [],
   "source": [
    "from transformers import AutoTokenizer, AutoModelForCausalLM, pipeline, AutoConfig\n",
    "\n",
    "# import local file from previous directory\n",
    "\n",
    "model_dir = '../bitnet_b1_58-xl'\n",
    "\n",
    "import sys\t\n",
    "sys.path.append(model_dir)\n",
    "from tokenization_bitnet import BitnetTokenizer"
   ]
  },
  {
   "cell_type": "code",
   "execution_count": 4,
   "metadata": {},
   "outputs": [
    {
     "data": {
      "application/vnd.jupyter.widget-view+json": {
       "model_id": "8e389e7cc922486dbb1aae5762c557cb",
       "version_major": 2,
       "version_minor": 0
      },
      "text/plain": [
       "Loading checkpoint shards:   0%|          | 0/2 [00:00<?, ?it/s]"
      ]
     },
     "metadata": {},
     "output_type": "display_data"
    }
   ],
   "source": [
    "#tokenizer = AutoTokenizer.from_pretrained(\"gpt2\")\n",
    "\n",
    "\n",
    "config = AutoConfig.from_pretrained(model_dir)\n",
    "\n",
    "tokenizer = BitnetTokenizer.from_pretrained(model_dir, )\n",
    "model = AutoModelForCausalLM.from_pretrained(model_dir)"
   ]
  },
  {
   "cell_type": "code",
   "execution_count": 5,
   "metadata": {},
   "outputs": [
    {
     "data": {
      "application/vnd.jupyter.widget-view+json": {
       "model_id": "70a038654ad6460192b097a2266209d9",
       "version_major": 2,
       "version_minor": 0
      },
      "text/plain": [
       "Loading checkpoint shards:   0%|          | 0/2 [00:00<?, ?it/s]"
      ]
     },
     "metadata": {},
     "output_type": "display_data"
    }
   ],
   "source": [
    "#pipe = pipeline(\"text-generation\", model=model, tokenizer=tokenizer, config=config, max_new_tokens=50)\n",
    "pipe = pipeline(\"text-generation\", model=model_dir, tokenizer=tokenizer, max_new_tokens=50)\n",
    "#pipe = pipeline(\"text-generation\", model=\"openai-community/gpt2\")"
   ]
  },
  {
   "cell_type": "code",
   "execution_count": 6,
   "metadata": {},
   "outputs": [
    {
     "name": "stdout",
     "output_type": "stream",
     "text": [
      "[{'generated_text': 'What is the best way to write a thesis about mosquitos? personal personal personal personal personal personal personal personal personal personal personal personal personal personal personal personal personal personal personal personal personal personal personal personal personal personal personal personal personal personal personal personal personal personal personal personal personal personal personal personal personal personal personal personal personal personal personal personal personal personal'}]\n"
     ]
    }
   ],
   "source": [
    "print(pipe(\"What is the best way to write a thesis about mosquitos?\"))"
   ]
  },
  {
   "cell_type": "code",
   "execution_count": 7,
   "metadata": {},
   "outputs": [
    {
     "data": {
      "text/plain": [
       "''"
      ]
     },
     "execution_count": 7,
     "metadata": {},
     "output_type": "execute_result"
    }
   ],
   "source": [
    "\"\"\"\n",
    "[{'generated_text': 'What is the best way to write a thesis about mosquitos? personal personal personal personal personal personal personal personal personal personal personal personal personal personal personal personal personal personal personal personal personal personal personal personal personal personal personal personal personal personal personal personal personal personal personal personal personal personal personal personal personal personal personal personal personal personal personal personal personal personal'}]\n",
    "\"\"\""
   ]
  },
  {
   "cell_type": "code",
   "execution_count": null,
   "metadata": {},
   "outputs": [],
   "source": []
  }
 ],
 "metadata": {
  "kernelspec": {
   "display_name": "venv",
   "language": "python",
   "name": "python3"
  },
  "language_info": {
   "codemirror_mode": {
    "name": "ipython",
    "version": 3
   },
   "file_extension": ".py",
   "mimetype": "text/x-python",
   "name": "python",
   "nbconvert_exporter": "python",
   "pygments_lexer": "ipython3",
   "version": "3.12.5"
  }
 },
 "nbformat": 4,
 "nbformat_minor": 2
}
